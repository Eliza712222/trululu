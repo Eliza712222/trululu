{
  "nbformat": 4,
  "nbformat_minor": 0,
  "metadata": {
    "colab": {
      "provenance": [],
      "authorship_tag": "ABX9TyMaRoqVs0Rwq3RGVXkoNtNX",
      "include_colab_link": true
    },
    "kernelspec": {
      "name": "python3",
      "display_name": "Python 3"
    },
    "language_info": {
      "name": "python"
    }
  },
  "cells": [
    {
      "cell_type": "markdown",
      "metadata": {
        "id": "view-in-github",
        "colab_type": "text"
      },
      "source": [
        "<a href=\"https://colab.research.google.com/github/Eliza712222/trululu/blob/main/Untitled15.ipynb\" target=\"_parent\"><img src=\"https://colab.research.google.com/assets/colab-badge.svg\" alt=\"Open In Colab\"/></a>"
      ]
    },
    {
      "cell_type": "code",
      "execution_count": null,
      "metadata": {
        "id": "K7xsI98XA4_0"
      },
      "outputs": [],
      "source": [
        "import numpy as np\n",
        "import matplotlib.pyplot as plt\n",
        "from sklearn.linear_model import LinearRegression\n",
        "\n",
        "# Datos de ejemplo\n",
        "x = np.array([1, 2, 3, 4, 5]).reshape(-1, 1)  # variable independiente\n",
        "y = np.array([2, 4, 5, 4, 5])  # variable dependiente\n",
        "\n",
        "# Crear el modelo\n",
        "modelo = LinearRegression()\n",
        "\n",
        "# Entrenar (ajustar) el modelo\n",
        "modelo.fit(x, y)\n",
        "\n",
        "# Obtener parámetros\n",
        "m = modelo.coef_[0]     # pendiente\n",
        "b = modelo.intercept_   # intercepto\n",
        "\n",
        "print(\"Ecuación: y =\", m, \"x +\", b)\n",
        "\n",
        "# Hacer predicciones\n",
        "y_pred = modelo.predict(x)\n",
        "\n",
        "# Graficar\n",
        "plt.scatter(x, y, color=\"blue\", label=\"Datos\")\n",
        "plt.plot(x, y_pred, color=\"red\", label=\"Recta ajustada\")\n",
        "plt.legend()\n",
        "plt.show()\n"
      ]
    }
  ]
}